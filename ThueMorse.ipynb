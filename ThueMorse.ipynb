{
  "cells": [
    {
      "cell_type": "markdown",
      "metadata": {
        "id": "view-in-github",
        "colab_type": "text"
      },
      "source": [
        "<a href=\"https://colab.research.google.com/github/Uriel1201/HelloPython/blob/main/ThueMorse.ipynb\" target=\"_parent\"><img src=\"https://colab.research.google.com/assets/colab-badge.svg\" alt=\"Open In Colab\"/></a>"
      ]
    },
    {
      "cell_type": "markdown",
      "metadata": {
        "id": "0AHOxj95drpB"
      },
      "source": [
        "# Thue Morse Su"
      ]
    },
    {
      "cell_type": "code",
      "execution_count": 1,
      "metadata": {
        "id": "ZmCj5DqRds_l"
      },
      "outputs": [],
      "source": [
        "import numpy as np\n",
        "import matplotlib.pyplot as plt\n",
        "import matplotlib.patches as pch"
      ]
    },
    {
      "cell_type": "code",
      "execution_count": 2,
      "metadata": {
        "id": "pES3hHAwqcNu"
      },
      "outputs": [],
      "source": [
        "def main():\n",
        "    # n = 70\n",
        "    n = int(input(\"n-by-n grid: \"))\n",
        "    if n < 0:\n",
        "        raise ValueError(\"n must be no negative\")\n",
        "    a = np.zeros(n, dtype = int)\n",
        "    for i in range(1, n):\n",
        "        if i % 2 == 0:\n",
        "            a[i] = a[i // 2]\n",
        "        else:\n",
        "            a[i] = 1 - a[i - 1]\n",
        "    plt.figure(figsize = (9, 9))\n",
        "    fig, ax = plt.subplots()\n",
        "    ax.set_xlim(0, n)\n",
        "    ax.set_ylim(0, n)\n",
        "    for i in range(n):\n",
        "        for j in range(n):\n",
        "            if a[i] == a[j]:\n",
        "                r = pch.Rectangle((j, i), 1, 1, facecolor = 'black')\n",
        "                ax.add_patch(r)\n",
        "            else:\n",
        "                r = pch.Rectangle((j, i), 1, 1, facecolor = 'white')\n",
        "                ax.add_patch(r)\n",
        "    plt.show()"
      ]
    },
    {
      "cell_type": "code",
      "execution_count": null,
      "metadata": {
        "id": "wa4d_KonuaRe"
      },
      "outputs": [],
      "source": [
        "if __name__ == '__main__':\n",
        "    main()"
      ]
    },
    {
      "cell_type": "code",
      "execution_count": null,
      "metadata": {
        "colab": {
          "base_uri": "https://localhost:8080/",
          "height": 286
        },
        "id": "cSb5VXtroNZj",
        "outputId": "76e4988b-92ba-4de6-ebf6-c36f5a914b19"
      },
      "outputs": [
        {
          "data": {
            "text/plain": [
              "<Figure size 900x700 with 0 Axes>"
            ]
          },
          "metadata": {},
          "output_type": "display_data"
        },
        {
          "data": {
            "image/png": "[encoded data removed]",
            "text/plain": [
              "<Figure size 640x480 with 1 Axes>"
            ]
          },
          "metadata": {},
          "output_type": "display_data"
        }
      ],
      "source": [
        "plt.figure(figsize = (9, 7))\n",
        "fig, ax = plt.subplots()\n",
        "r = pch.Rectangle((0, 0), 1, 1, facecolor = 'black')\n",
        "ax.add_patch(r)\n",
        "ax.set_xlim(0, 1)\n",
        "ax.set_ylim(0, 1)\n",
        "# sns.set(style= 'darkgrid')\n",
        "# plt.title(f'Frequencies From the Sample')\n",
        "# plt.ylabel(f'Frequency')\n",
        "# plt.xlabel(f'x in Range(X)')\n",
        "# sns.countplot(x = X, color = '#088F8F')\n",
        "# plt.tight_layout()\n",
        "plt.show()"
      ]
    }
  ],
  "metadata": {
    "colab": {
      "provenance": [],
      "authorship_tag": "ABX9TyMDdFa0IDsznJiBCVPUI22Z",
      "include_colab_link": true
    },
    "kernelspec": {
      "display_name": "Python 3",
      "name": "python3"
    },
    "language_info": {
      "name": "python"
    }
  },
  "nbformat": 4,
  "nbformat_minor": 0
}