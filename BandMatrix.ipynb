{
  "nbformat": 4,
  "nbformat_minor": 0,
  "metadata": {
    "colab": {
      "provenance": [],
      "authorship_tag": "ABX9TyPkoDDidFFqz4tPtRvYkwTw",
      "include_colab_link": true
    },
    "kernelspec": {
      "name": "python3",
      "display_name": "Python 3"
    },
    "language_info": {
      "name": "python"
    }
  },
  "cells": [
    {
      "cell_type": "markdown",
      "metadata": {
        "id": "view-in-github",
        "colab_type": "text"
      },
      "source": [
        "<a href=\"https://colab.research.google.com/github/Uriel1201/HelloPython/blob/main/BandMatrix.ipynb\" target=\"_parent\"><img src=\"https://colab.research.google.com/assets/colab-badge.svg\" alt=\"Open In Colab\"/></a>"
      ]
    },
    {
      "cell_type": "code",
      "execution_count": 22,
      "metadata": {
        "id": "KkvJ_zpJixsu"
      },
      "outputs": [],
      "source": [
        "def main():\n",
        "    n = int(input(\"n-by-n pattern: \"))\n",
        "    w = int(input(\"width between main diagonal: \"))\n",
        "    print(f'\\n')\n",
        "    if n < 0 or w < 0:\n",
        "        print(f'n and w must be no negative')\n",
        "    else:\n",
        "        for i in range(1, n + 1):\n",
        "            for j in range(1, n+1):\n",
        "                k = j - i\n",
        "                if k < 0:\n",
        "                    k = -1 * k\n",
        "                if k > w:\n",
        "                    print(f'0  ', end = '')\n",
        "                else:\n",
        "                    print(f'*  ', end = '')\n",
        "            print(f'\\n')"
      ]
    },
    {
      "cell_type": "code",
      "source": [
        "if __name__ == '__main__':\n",
        "    main()"
      ],
      "metadata": {
        "id": "eGSEX1D2lRO5",
        "colab": {
          "base_uri": "https://localhost:8080/"
        },
        "outputId": "827bf263-0447-46a8-82e3-2faee1b1c73e"
      },
      "execution_count": 24,
      "outputs": [
        {
          "output_type": "stream",
          "name": "stdout",
          "text": [
            "n-by-n pattern: 8\n",
            "width between main diagonal: 1\n",
            "\n",
            "\n",
            "*  *  0  0  0  0  0  0  \n",
            "\n",
            "*  *  *  0  0  0  0  0  \n",
            "\n",
            "0  *  *  *  0  0  0  0  \n",
            "\n",
            "0  0  *  *  *  0  0  0  \n",
            "\n",
            "0  0  0  *  *  *  0  0  \n",
            "\n",
            "0  0  0  0  *  *  *  0  \n",
            "\n",
            "0  0  0  0  0  *  *  *  \n",
            "\n",
            "0  0  0  0  0  0  *  *  \n",
            "\n"
          ]
        }
      ]
    }
  ]
}