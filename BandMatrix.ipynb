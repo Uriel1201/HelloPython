{
  "nbformat": 4,
  "nbformat_minor": 0,
  "metadata": {
    "colab": {
      "provenance": [],
      "authorship_tag": "ABX9TyOpisRQz+JjZSgf55B8B65Y",
      "include_colab_link": true
    },
    "kernelspec": {
      "name": "python3",
      "display_name": "Python 3"
    },
    "language_info": {
      "name": "python"
    }
  },
  "cells": [
    {
      "cell_type": "markdown",
      "metadata": {
        "id": "view-in-github",
        "colab_type": "text"
      },
      "source": [
        "<a href=\"https://colab.research.google.com/github/Uriel1201/HelloPython/blob/main/BandMatrix.ipynb\" target=\"_parent\"><img src=\"https://colab.research.google.com/assets/colab-badge.svg\" alt=\"Open In Colab\"/></a>"
      ]
    },
    {
      "cell_type": "markdown",
      "source": [
        "# Band Matrices\n",
        "Band Matrices are matrices whose non zero entries are restricted to a diagonal band. They arise in numerical linear algebra."
      ],
      "metadata": {
        "id": "jywBdimLt9Vj"
      }
    },
    {
      "cell_type": "code",
      "source": [
        "def main():\n",
        "    n = int(input(\"n-by-n pattern: \"))\n",
        "    w = int(input(\"width between main diagonal: \"))\n",
        "    print(f'\\n')\n",
        "    if n < 0 or w < 0:\n",
        "        print(f'n and w must be no negative')\n",
        "    else:\n",
        "        for i in range(1, n + 1):\n",
        "            for j in range(1, n+1):\n",
        "                k = j - i\n",
        "                if k < 0:\n",
        "                    k = -1 * k\n",
        "                if k > w:\n",
        "                    print(f'0  ', end = '')\n",
        "                else:\n",
        "                    print(f'*  ', end = '')\n",
        "            print()"
      ],
      "metadata": {
        "id": "QN12nFSxt367"
      },
      "execution_count": 34,
      "outputs": []
    },
    {
      "cell_type": "markdown",
      "source": [
        "A zero (0) for each element whose distance from the main diagonal is strictly more than width (w), and an asterisk (*) for each entry that is not."
      ],
      "metadata": {
        "id": "gq9IKS47uW5v"
      }
    },
    {
      "cell_type": "code",
      "source": [
        "if __name__ == '__main__':\n",
        "    main()"
      ],
      "metadata": {
        "id": "eGSEX1D2lRO5",
        "colab": {
          "base_uri": "https://localhost:8080/"
        },
        "outputId": "172df0ce-2d67-44fb-b07f-b24fefd8817e"
      },
      "execution_count": 35,
      "outputs": [
        {
          "output_type": "stream",
          "name": "stdout",
          "text": [
            "n-by-n pattern: 12\n",
            "width between main diagonal: 2\n",
            "\n",
            "\n",
            "*  *  *  0  0  0  0  0  0  0  0  0  \n",
            "*  *  *  *  0  0  0  0  0  0  0  0  \n",
            "*  *  *  *  *  0  0  0  0  0  0  0  \n",
            "0  *  *  *  *  *  0  0  0  0  0  0  \n",
            "0  0  *  *  *  *  *  0  0  0  0  0  \n",
            "0  0  0  *  *  *  *  *  0  0  0  0  \n",
            "0  0  0  0  *  *  *  *  *  0  0  0  \n",
            "0  0  0  0  0  *  *  *  *  *  0  0  \n",
            "0  0  0  0  0  0  *  *  *  *  *  0  \n",
            "0  0  0  0  0  0  0  *  *  *  *  *  \n",
            "0  0  0  0  0  0  0  0  *  *  *  *  \n",
            "0  0  0  0  0  0  0  0  0  *  *  *  \n"
          ]
        }
      ]
    }
  ]
}