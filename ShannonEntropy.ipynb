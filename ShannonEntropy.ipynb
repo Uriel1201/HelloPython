{
  "nbformat": 4,
  "nbformat_minor": 0,
  "metadata": {
    "colab": {
      "provenance": [],
      "authorship_tag": "ABX9TyPK1CYt6mcgawvj3JWbZwiF",
      "include_colab_link": true
    },
    "kernelspec": {
      "name": "python3",
      "display_name": "Python 3"
    },
    "language_info": {
      "name": "python"
    }
  },
  "cells": [
    {
      "cell_type": "markdown",
      "metadata": {
        "id": "view-in-github",
        "colab_type": "text"
      },
      "source": [
        "<a href=\"https://colab.research.google.com/github/Uriel1201/HelloPython/blob/main/ShannonEntropy.ipynb\" target=\"_parent\"><img src=\"https://colab.research.google.com/assets/colab-badge.svg\" alt=\"Open In Colab\"/></a>"
      ]
    },
    {
      "cell_type": "code",
      "execution_count": null,
      "metadata": {
        "id": "q4V8B6_iVYVC"
      },
      "outputs": [],
      "source": [
        "import numpy as np\n",
        "import random"
      ]
    },
    {
      "cell_type": "code",
      "source": [
        "n = int(input(\"Sample Size?\"))"
      ],
      "metadata": {
        "colab": {
          "base_uri": "https://localhost:8080/"
        },
        "id": "WOqibpfUVokV",
        "outputId": "c6f5e2a2-b3be-4ae5-a869-9445db634752"
      },
      "execution_count": null,
      "outputs": [
        {
          "name": "stdout",
          "output_type": "stream",
          "text": [
            "Sample Size?10000\n"
          ]
        }
      ]
    },
    {
      "cell_type": "code",
      "source": [
        "file_path = 'Shannon_Information.txt'"
      ],
      "metadata": {
        "id": "SECJN_ffVysU"
      },
      "execution_count": null,
      "outputs": []
    },
    {
      "cell_type": "code",
      "source": [
        "with open(file_path, 'w') as file:\n",
        "    for i in range(n):\n",
        "        random_integer = int(random.random() * 100)\n",
        "        file.write(str(random_integer) + '\\n')"
      ],
      "metadata": {
        "id": "4qNca-ybV7qs"
      },
      "execution_count": null,
      "outputs": []
    },
    {
      "cell_type": "code",
      "source": [
        "f = np.zeros(100, dtype = int)"
      ],
      "metadata": {
        "id": "R9vR4R9iW8Hm"
      },
      "execution_count": null,
      "outputs": []
    },
    {
      "cell_type": "code",
      "source": [
        "with open(file_path, 'r') as file:\n",
        "    for line in file:\n",
        "        x = int(line.strip())\n",
        "        f[x] += 1"
      ],
      "metadata": {
        "id": "W4YyoSs5XYqr"
      },
      "execution_count": null,
      "outputs": []
    },
    {
      "cell_type": "code",
      "source": [
        "Shannon = 0.0\n",
        "for i in range(100):\n",
        "    if f[i] > 0:\n",
        "        p = 1.0 * f[i] / n\n",
        "        arg = -p * np.log(p) / np.log(2)\n",
        "        Shannon += arg"
      ],
      "metadata": {
        "id": "LCsyLrulX_4v"
      },
      "execution_count": null,
      "outputs": []
    },
    {
      "cell_type": "code",
      "source": [
        "print('ShannonEntropy: ', end = '')\n",
        "print('{0:.4f}'.format(Shannon))"
      ],
      "metadata": {
        "colab": {
          "base_uri": "https://localhost:8080/"
        },
        "id": "ileWC3asY1Y2",
        "outputId": "3c5e8b95-b2e8-4f8f-874d-22a43a586d10"
      },
      "execution_count": null,
      "outputs": [
        {
          "output_type": "stream",
          "name": "stdout",
          "text": [
            "ShannonEntropy: 6.6383\n"
          ]
        }
      ]
    }
  ]
}